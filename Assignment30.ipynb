{
 "cells": [
  {
   "cell_type": "code",
   "execution_count": 2,
   "id": "99a31dbf-65e2-4928-9286-31757a509b11",
   "metadata": {},
   "outputs": [],
   "source": [
    "#Q.1\n",
    "# A probability density function is a function that describes the likelihood of a continous random variable\n",
    "# taking on a particular value. The PDF is used to specify the probability of the variable falling within a\n",
    "# particular range of values, rather than taking any one specific value. The area under the PDF curve over an\n",
    "# interval represents the probability that the variable fall within that interval.\n"
   ]
  },
  {
   "cell_type": "code",
   "execution_count": 5,
   "id": "807d21ce-8458-4a4d-95cb-2087a9f2bfe8",
   "metadata": {},
   "outputs": [],
   "source": [
    "#Q.2\n",
    "# bernoulli  distribution , binomial distribution , poisson distribution ,gaussian distribution and uniform distribution "
   ]
  },
  {
   "cell_type": "code",
   "execution_count": 5,
   "id": "eed4034a-5254-4e57-b1ab-43543260b2cc",
   "metadata": {},
   "outputs": [
    {
     "name": "stdout",
     "output_type": "stream",
     "text": [
      "The PDF value at x=1.0 for a normal distribution with mean=0.0 and std_dev=1.0 is 0.24197072451914337\n"
     ]
    }
   ],
   "source": [
    "#Q.3\n",
    "import scipy.stats as stats\n",
    "\n",
    "def normal_pdf(x, mean, std_dev):\n",
    "    \"\"\"\n",
    "    Calculate the probability density function of a normal distribution.\n",
    "\n",
    "    Parameters:\n",
    "    x (float): The point at which to evaluate the PDF.\n",
    "    mean (float): The mean of the normal distribution.\n",
    "    std_dev (float): The standard deviation of the normal distribution.\n",
    "\n",
    "    Returns:\n",
    "    float: The value of the PDF at point x.\n",
    "    \"\"\"\n",
    "    return stats.norm.pdf(x, loc=mean, scale=std_dev)\n",
    "\n",
    "# Example usage:\n",
    "x = 1.0\n",
    "mean = 0.0\n",
    "std_dev = 1.0\n",
    "pdf_value = normal_pdf(x, mean, std_dev)\n",
    "print(f\"The PDF value at x={x} for a normal distribution with mean={mean} and std_dev={std_dev} is {pdf_value}\")\n"
   ]
  },
  {
   "cell_type": "code",
   "execution_count": 6,
   "id": "fd139400-5e9c-4d3c-af5c-38261deca4bc",
   "metadata": {},
   "outputs": [
    {
     "name": "stdout",
     "output_type": "stream",
     "text": [
      "Requirement already satisfied: scipy in c:\\users\\rohil\\appdata\\local\\programs\\python\\python311\\lib\\site-packages (1.14.1)\n",
      "Requirement already satisfied: numpy<2.3,>=1.23.5 in c:\\users\\rohil\\appdata\\local\\programs\\python\\python311\\lib\\site-packages (from scipy) (2.1.1)\n",
      "Note: you may need to restart the kernel to use updated packages.\n"
     ]
    },
    {
     "name": "stderr",
     "output_type": "stream",
     "text": [
      "\n",
      "[notice] A new release of pip available: 22.3.1 -> 24.2\n",
      "[notice] To update, run: python.exe -m pip install --upgrade pip\n"
     ]
    }
   ],
   "source": [
    "pip install scipy"
   ]
  },
  {
   "cell_type": "code",
   "execution_count": 7,
   "id": "09232ea1-fb8c-4edb-b4a8-c4789b0931b3",
   "metadata": {},
   "outputs": [
    {
     "data": {
      "text/plain": [
       "'The Binomial distribution is a discrete probability distribution that describes the number of successes in a fixed number of independent trials, each with the same probability of success. Here are its key properties:\\n\\nTwo Possible Outcomes: Each trial results in either a success or a failure.\\nFixed Number of Trials: The number of trials, denoted as ( n ), is fixed.\\nConstant Probability: The probability of success, denoted as ( p ), remains constant for each trial.\\nIndependent Trials: Each trial is independent of the others.\\nDiscrete Distribution: The number of successes is a discrete random variable.\\nExamples of Events Where Binomial Distribution Can Be Applied\\nQuality Control in Manufacturing: Suppose a factory produces light bulbs, and each bulb has a 5% chance of being defective. If you randomly select 20 bulbs, the number of defective bulbs follows a binomial distribution with ( n = 20 ) and ( p = 0.05 ).\\nSurvey Responses: Imagine conducting a survey where you ask 100 people if they prefer tea over coffee. If 60% of the population prefers tea, the number of people who say they prefer tea in your survey follows a binomial distribution with ( n = 100 ) and ( p = 0.60 ).'"
      ]
     },
     "execution_count": 7,
     "metadata": {},
     "output_type": "execute_result"
    }
   ],
   "source": [
    "#Q.4\n",
    "\n",
    "\"\"\"The Binomial distribution is a discrete probability distribution that describes the number of successes in a fixed number of independent trials, each with the same probability of success. Here are its key properties:\n",
    "\n",
    "Two Possible Outcomes: Each trial results in either a success or a failure.\n",
    "Fixed Number of Trials: The number of trials, denoted as ( n ), is fixed.\n",
    "Constant Probability: The probability of success, denoted as ( p ), remains constant for each trial.\n",
    "Independent Trials: Each trial is independent of the others.\n",
    "Discrete Distribution: The number of successes is a discrete random variable.\n",
    "Examples of Events Where Binomial Distribution Can Be Applied\n",
    "Quality Control in Manufacturing: Suppose a factory produces light bulbs, and each bulb has a 5% chance of being defective. If you randomly select 20 bulbs, the number of defective bulbs follows a binomial distribution with ( n = 20 ) and ( p = 0.05 ).\n",
    "Survey Responses: Imagine conducting a survey where you ask 100 people if they prefer tea over coffee. If 60% of the population prefers tea, the number of people who say they prefer tea in your survey follows a binomial distribution with ( n = 100 ) and ( p = 0.60 ).\"\"\""
   ]
  },
  {
   "cell_type": "code",
   "execution_count": 10,
   "id": "1bf2cc5e-9ac2-456c-8d13-f69dc2dedb4b",
   "metadata": {},
   "outputs": [
    {
     "data": {
      "image/png": "[encoded data removed]",
      "text/plain": [
       "<Figure size 640x480 with 1 Axes>"
      ]
     },
     "metadata": {},
     "output_type": "display_data"
    }
   ],
   "source": [
    "#Q.5\n",
    "\n",
    "import numpy as np \n",
    "import matplotlib.pyplot as  plt\n",
    "\n",
    "n = 10\n",
    "p = 0.4\n",
    "sample_size = 1000 \n",
    "\n",
    "sample = np.random.binomial(n,p,sample_size)\n",
    "\n",
    "plt.hist(sample, bins=range(n+2), edgecolor = 'black' , alpha = 0.7)\n",
    "plt.title('Histogram of Binomial Distribution (n=10, p=0.4)')\n",
    "plt.xlabel('Number of Successes')\n",
    "plt.ylabel('Frequency')\n",
    "plt.xticks(range(n+1))\n",
    "plt.grid(axis='y', linestyle='--', alpha=0.7)\n",
    "plt.show()"
   ]
  },
  {
   "cell_type": "code",
   "execution_count": 13,
   "id": "9d2022c1-8f1e-46fe-8f32-de493fa2bb29",
   "metadata": {},
   "outputs": [
    {
     "name": "stdout",
     "output_type": "stream",
     "text": [
      "0.2650259152973615\n"
     ]
    }
   ],
   "source": [
    "#Q.6\n",
    "from scipy.stats import poisson\n",
    "\n",
    "def poission_cdf(mean,point):\n",
    "    return poisson.cdf(point,mean)\n",
    "\n",
    "mean = 3\n",
    "point = 5 \n",
    "cdf_value = poisson.cdf(mean,point)\n",
    "print(cdf_value)"
   ]
  },
  {
   "cell_type": "code",
   "execution_count": 15,
   "id": "376cca4d-979e-4b4d-9aa1-0d679c41a8c8",
   "metadata": {},
   "outputs": [
    {
     "data": {
      "text/plain": [
       "'# Number of Trials: Binomial distribution has a fixed number of trials (( n )), while Poisson distribution does not have a fixed number of trials but rather counts events in a continuous interval.\\n# Outcomes: Binomial distribution deals with two possible outcomes (success or failure), whereas Poisson distribution deals with the number of events occurring.\\n# Mean and Variance: In a Binomial distribution, the mean is ( np ) and the variance is ( np(1-p) ). In a Poisson distribution, the mean and variance are both ( \\\\lambda ).'"
      ]
     },
     "execution_count": 15,
     "metadata": {},
     "output_type": "execute_result"
    }
   ],
   "source": [
    "#Q.7\n",
    "\"\"\"# Number of Trials: Binomial distribution has a fixed number of trials (( n )), while Poisson distribution does not have a fixed number of trials but rather counts events in a continuous interval.\n",
    "# Outcomes: Binomial distribution deals with two possible outcomes (success or failure), whereas Poisson distribution deals with the number of events occurring.\n",
    "# Mean and Variance: In a Binomial distribution, the mean is ( np ) and the variance is ( np(1-p) ). In a Poisson distribution, the mean and variance are both ( \\lambda ).\"\"\""
   ]
  },
  {
   "cell_type": "code",
   "execution_count": 25,
   "id": "3d5eb8bf-fc78-4c79-a869-8a6eee1af38b",
   "metadata": {},
   "outputs": [
    {
     "name": "stdout",
     "output_type": "stream",
     "text": [
      "sample mean:5.063\n",
      "sample variance:5.133031000000001\n"
     ]
    }
   ],
   "source": [
    "# Q.8\n",
    "\n",
    "import numpy as np\n",
    "\n",
    "mean = 5\n",
    "sample_size = 1000\n",
    "sample = np.random.poisson(lam = mean , size= sample_size)\n",
    "\n",
    "s_mean = np.mean(sample)\n",
    "s_var = np.var(sample)\n",
    "print(f\"sample mean:{s_mean}\")\n",
    "print(f\"sample variance:{s_var}\")"
   ]
  },
  {
   "cell_type": "code",
   "execution_count": 28,
   "id": "4f48c1e7-13e5-452e-a7d9-54071089c21c",
   "metadata": {},
   "outputs": [],
   "source": [
    "#Q.9\n",
    "#Key Differences\n",
    "#In a Binomial distribution, the mean and variance depend on both the number of trials (( n )) and the probability of success (( p )). Specifically, the variance is affected by the probability of failure (( 1-p )).\n",
    "#In a Poisson distribution, the mean and variance are equal and solely determined by the parameter ( \\lambda ).\n",
    "#Summary\n",
    "#Binomial Distribution: Mean ( \\mu = np ), Variance ( \\sigma^2 = np(1-p) )\n",
    "#Poisson Distribution: Mean ( \\lambda ), Variance ( \\lambda )"
   ]
  },
  {
   "cell_type": "code",
   "execution_count": 29,
   "id": "c135366f-691f-4958-bfb2-d49763e97267",
   "metadata": {},
   "outputs": [
    {
     "data": {
      "text/plain": [
       "'In a normal distribution, the least frequent data points appear in the tails of the distribution. This means they are farthest from the mean (average) value.\\n\\nKey Points:\\nMean Position: The mean is at the center of the distribution.\\nFrequency: Data points are most frequent around the mean and become less frequent as you move away from the mean.\\nTails: The tails of the distribution, which extend towards the extreme values on both sides, contain the least frequent data points.\\nEmpirical Rule:\\nAbout 68% of the data falls within 1 standard deviation of the mean.\\nAbout 95% falls within 2 standard deviations.\\nAbout 99.7% falls within 3 standard deviations.'"
      ]
     },
     "execution_count": 29,
     "metadata": {},
     "output_type": "execute_result"
    }
   ],
   "source": [
    "#Q.10\n",
    "\"\"\"In a normal distribution, the least frequent data points appear in the tails of the distribution. This means they are farthest from the mean (average) value.\n",
    "\n",
    "Key Points:\n",
    "Mean Position: The mean is at the center of the distribution.\n",
    "Frequency: Data points are most frequent around the mean and become less frequent as you move away from the mean.\n",
    "Tails: The tails of the distribution, which extend towards the extreme values on both sides, contain the least frequent data points.\n",
    "Empirical Rule:\n",
    "About 68% of the data falls within 1 standard deviation of the mean.\n",
    "About 95% falls within 2 standard deviations.\n",
    "About 99.7% falls within 3 standard deviations.\"\"\""
   ]
  },
  {
   "cell_type": "code",
   "execution_count": null,
   "id": "cf36f90d-fed6-4f3f-a51a-05562ec736b3",
   "metadata": {},
   "outputs": [],
   "source": []
  }
 ],
 "metadata": {
  "kernelspec": {
   "display_name": "Python 3 (ipykernel)",
   "language": "python",
   "name": "python3"
  },
  "language_info": {
   "codemirror_mode": {
    "name": "ipython",
    "version": 3
   },
   "file_extension": ".py",
   "mimetype": "text/x-python",
   "name": "python",
   "nbconvert_exporter": "python",
   "pygments_lexer": "ipython3",
   "version": "3.11.3"
  }
 },
 "nbformat": 4,
 "nbformat_minor": 5
}
